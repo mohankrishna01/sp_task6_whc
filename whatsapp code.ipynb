{
 "cells": [
  {
   "cell_type": "code",
   "execution_count": 18,
   "metadata": {},
   "outputs": [
    {
     "name": "stdout",
     "output_type": "stream",
     "text": [
      "Message Sent Successfully\n",
      "Message id : SMff6380a9a95a4b34964ad31413c31646\n"
     ]
    }
   ],
   "source": [
    "'''\n",
    "!!!!! \n",
    "\n",
    "if sandbox send message to anyone \n",
    "first send a WhatsApp message to +1 415 523 8886 with code ---> join frame-move \n",
    "\n",
    "!!!!\n",
    "'''\n",
    "\n",
    "from twilio.rest import Client \n",
    " \n",
    "account_sid = 'AC1fbe175cdc053d4041550498176e2540' \n",
    "auth_token = '06f711d33b440c40f93bc3a8e21a1a83' \n",
    "client = Client(account_sid, auth_token) \n",
    " \n",
    "message = client.messages.create( \n",
    "                              from_='whatsapp:+14155238886',  \n",
    "                              body='Hello! someone opening your app',      \n",
    "                              to='whatsapp:+917558113550' \n",
    "                          ) \n",
    " \n",
    "print(\"Message Sent Successfully..\")\n",
    "print(\"Message id : \" + message.sid)"
   ]
  },
  {
   "cell_type": "code",
   "execution_count": null,
   "metadata": {},
   "outputs": [],
   "source": []
  },
  {
   "cell_type": "code",
   "execution_count": null,
   "metadata": {},
   "outputs": [],
   "source": []
  }
 ],
 "metadata": {
  "kernelspec": {
   "display_name": "Python 3",
   "language": "python",
   "name": "python3"
  },
  "language_info": {
   "codemirror_mode": {
    "name": "ipython",
    "version": 3
   },
   "file_extension": ".py",
   "mimetype": "text/x-python",
   "name": "python",
   "nbconvert_exporter": "python",
   "pygments_lexer": "ipython3",
   "version": "3.8.5"
  }
 },
 "nbformat": 4,
 "nbformat_minor": 4
}
