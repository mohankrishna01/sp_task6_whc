{
 "cells": [
  {
   "cell_type": "code",
   "execution_count": null,
   "metadata": {},
   "outputs": [],
   "source": [
    "from twilio.rest import Client \n",
    " \n",
    "account_sid = 'AC1fbe175cdc053d4041550498176e2540' \n",
    "auth_token = '4ba54d434834e7270b318bfc161df72d' \n",
    "client = Client(account_sid, auth_token) \n",
    " \n",
    "message = client.messages.create( \n",
    "                              from_='whatsapp:+14155238886',  \n",
    "                              body='Hello! someone opening your app',      \n",
    "                              to='whatsapp:+917558113550' \n",
    "                          ) \n",
    " \n",
    "print(message.sid)"
   ]
  },
  {
   "cell_type": "code",
   "execution_count": null,
   "metadata": {},
   "outputs": [],
   "source": []
  }
 ],
 "metadata": {
  "kernelspec": {
   "display_name": "Python 3",
   "language": "python",
   "name": "python3"
  },
  "language_info": {
   "codemirror_mode": {
    "name": "ipython",
    "version": 3
   },
   "file_extension": ".py",
   "mimetype": "text/x-python",
   "name": "python",
   "nbconvert_exporter": "python",
   "pygments_lexer": "ipython3",
   "version": "3.8.5"
  }
 },
 "nbformat": 4,
 "nbformat_minor": 4
}
